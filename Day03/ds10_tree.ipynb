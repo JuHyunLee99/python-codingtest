{
 "cells": [
  {
   "cell_type": "markdown",
   "metadata": {},
   "source": [
    "## 트리구조"
   ]
  },
  {
   "cell_type": "code",
   "execution_count": 7,
   "metadata": {},
   "outputs": [],
   "source": [
    "class TreeNode: # 트리노드\n",
    "    \n",
    "    def __init__(self) -> None:\n",
    "        self.left = None\n",
    "        self.data = None\n",
    "        self.right = None\n"
   ]
  },
  {
   "cell_type": "code",
   "execution_count": 8,
   "metadata": {},
   "outputs": [],
   "source": [
    "rootNode = TreeNode()\n",
    "rootNode.data = '화사'\n",
    "\n",
    "node2 = TreeNode()\n",
    "node2.data = '솔라'\n",
    "rootNode.left = node2\n",
    "\n",
    "node3 = TreeNode()\n",
    "node3.data='문별'\n",
    "rootNode.right = node3\n",
    "\n",
    "node4 = TreeNode()\n",
    "node4.data='휘민'\n",
    "node2.left = node4\n",
    "\n",
    "node5 = TreeNode()\n",
    "node5.data='쯔위'\n",
    "node2.right = node5\n",
    "\n",
    "node6 = TreeNode()\n",
    "node6.data='선미'\n",
    "node3.left = node6"
   ]
  },
  {
   "cell_type": "code",
   "execution_count": 42,
   "metadata": {},
   "outputs": [
    {
     "name": "stdout",
     "output_type": "stream",
     "text": [
      "화사\n",
      "｜   ＼\n",
      "솔라   문별\n",
      "｜  ＼    ＼\n",
      "휘민 쯔위 선미\n"
     ]
    }
   ],
   "source": [
    "print(rootNode.data)\n",
    "print('｜   ＼')\n",
    "print(rootNode.left.data, ' ', rootNode.right.data)\n",
    "print('｜  ＼    ＼')\n",
    "print(rootNode.left.left.data, rootNode.left.right.data,\n",
    "      rootNode.right.left.data)\n",
    "\n"
   ]
  },
  {
   "attachments": {},
   "cell_type": "markdown",
   "metadata": {},
   "source": [
    "### 트리(!) 순회(traversal)\n",
    "\n",
    "#### 전위 순회(preorder), 중위(inorder), 후위 순위(postorder)"
   ]
  },
  {
   "cell_type": "code",
   "execution_count": 43,
   "metadata": {},
   "outputs": [],
   "source": [
    "def preorder(node):\n",
    "    if node == None: return\n",
    "\n",
    "    print(node.data, end=' -> ')\n",
    "    preorder(node.left) # 재귀호출(Recursive call)\n",
    "    preorder(node.right) # 재귀호출(Recursive call)"
   ]
  },
  {
   "cell_type": "code",
   "execution_count": 44,
   "metadata": {},
   "outputs": [
    {
     "name": "stdout",
     "output_type": "stream",
     "text": [
      "화사 -> 솔라 -> 휘민 -> 쯔위 -> 문별 -> 선미 -> "
     ]
    }
   ],
   "source": [
    "preorder(rootNode)"
   ]
  },
  {
   "cell_type": "code",
   "execution_count": 45,
   "metadata": {},
   "outputs": [],
   "source": [
    "def inorder(node):\n",
    "    if node == None: return\n",
    "    \n",
    "    inorder(node.left) # 재귀호출(Recursive call)\n",
    "    print(node.data, end=' -> ')\n",
    "    inorder(node.right) # 재귀호출(Recursive call)"
   ]
  },
  {
   "cell_type": "code",
   "execution_count": 46,
   "metadata": {},
   "outputs": [
    {
     "name": "stdout",
     "output_type": "stream",
     "text": [
      "휘민 -> 솔라 -> 쯔위 -> 화사 -> 선미 -> 문별 -> "
     ]
    }
   ],
   "source": [
    "inorder(rootNode)"
   ]
  },
  {
   "cell_type": "code",
   "execution_count": 47,
   "metadata": {},
   "outputs": [],
   "source": [
    "def postorder(node):\n",
    "    if node == None: return\n",
    "    \n",
    "    inorder(node.left) # 재귀호출(Recursive call)\n",
    "    inorder(node.right) # 재귀호출(Recursive call)\n",
    "    print(node.data, end=' -> ')"
   ]
  },
  {
   "cell_type": "code",
   "execution_count": 48,
   "metadata": {},
   "outputs": [
    {
     "name": "stdout",
     "output_type": "stream",
     "text": [
      "휘민 -> 솔라 -> 쯔위 -> 선미 -> 문별 -> 화사 -> "
     ]
    }
   ],
   "source": [
    "postorder(rootNode)"
   ]
  }
 ],
 "metadata": {
  "kernelspec": {
   "display_name": "Python 3",
   "language": "python",
   "name": "python3"
  },
  "language_info": {
   "codemirror_mode": {
    "name": "ipython",
    "version": 3
   },
   "file_extension": ".py",
   "mimetype": "text/x-python",
   "name": "python",
   "nbconvert_exporter": "python",
   "pygments_lexer": "ipython3",
   "version": "3.11.1"
  },
  "orig_nbformat": 4,
  "vscode": {
   "interpreter": {
    "hash": "a3d8f53f1429d27b792a3789224562ddd32c1395c9a9cfbb17b3c19c3b9a493d"
   }
  }
 },
 "nbformat": 4,
 "nbformat_minor": 2
}
