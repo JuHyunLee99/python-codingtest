{
 "cells": [
  {
   "cell_type": "markdown",
   "metadata": {},
   "source": [
    "## 정렬 고급"
   ]
  },
  {
   "cell_type": "code",
   "execution_count": 5,
   "metadata": {},
   "outputs": [],
   "source": [
    "from tkinter import *\n",
    "\n",
    "window = Tk()\n",
    "window.geometry('500x500')\n",
    "\n",
    "photo = PhotoImage(file='./cupdog.png')\n",
    "\n",
    "photoAry = []\n",
    "h = photo.height()\n",
    "w = photo.width()\n",
    "\n",
    "# 컬러 이미지를 그레이 이미지로\n",
    "for i in range(h):  # 500\n",
    "    for j in range(w):  # 500\n",
    "        r, g, b = photo.get(i,j)\n",
    "        value = (r+g+b) // 3\n",
    "        photoAry.append(value)\n",
    "\n",
    "# 그래이 이미지를 흑백 이미지로 \n",
    "\n",
    "for i in range(len(photoAry)):\n",
    "    if photoAry[i]<=127:\n",
    "        photoAry[i]=0\n",
    "    else:\n",
    "        photoAry[i]=255\n",
    "\n",
    "pos = 0\n",
    "for i in range(h):\n",
    "    for j in range(w):\n",
    "        r = g = b = photoAry[pos]\n",
    "        pos +=1\n",
    "        photo.put(\"#%02x%02x%02x\" % (r,g,b),(i,j))\n",
    "\n",
    "\n",
    "paper = Label(window, image=photo)\n",
    "paper.pack(expand=1, anchor = CENTER)\n",
    "window.mainloop()"
   ]
  },
  {
   "attachments": {},
   "cell_type": "markdown",
   "metadata": {},
   "source": [
    "#### 퀵 정렬로 중앙값을 찾아서 처리"
   ]
  },
  {
   "cell_type": "code",
   "execution_count": 6,
   "metadata": {},
   "outputs": [],
   "source": [
    "from tkinter import *\n",
    "\n",
    "def qSort(arr, start, end):\n",
    "    if end <= start:\n",
    "        return\n",
    "    \n",
    "    low = start\n",
    "    high = end\n",
    "\n",
    "    pivot = arr[(low + high)//2]\n",
    "    while low <= high :\n",
    "        while arr[low] < pivot:\n",
    "             low +=1\n",
    "        while arr[high] > pivot:\n",
    "            high -=1\n",
    "        if low <= high:\n",
    "            arr[low], arr[high] = arr[high],arr[low]\n",
    "            low, high = low +1, high-1\n",
    "    mid = low\n",
    "\n",
    "    qSort(arr,start,mid-1)\n",
    "    qSort(arr, mid, end)\n",
    "\n",
    "def quickSort(ary):\n",
    "    qSort(ary, 0, len(ary)-1)\n",
    "\n",
    "## 메인 코드 부분 ##\n",
    "window = Tk()\n",
    "window.geometry('500x500')\n",
    "photo = PhotoImage(file='./cupdog.png')\n",
    "\n",
    "photoAry = []\n",
    "h = photo.height()\n",
    "w = photo.width()\n",
    "\n",
    "# 컬러 이미지를 그레이 이미지로\n",
    "for i in range(h):  # 500\n",
    "    for j in range(w):  # 500\n",
    "        r, g, b = photo.get(i,j)\n",
    "        value = (r+g+b) // 3\n",
    "        photoAry.append(value)\n",
    "\n",
    "dataAry = photoAry[:]\n",
    "quickSort(dataAry)\n",
    "midValue = dataAry[h*w//2]\n",
    "\n",
    "# 그래이 이미지를 흑백 이미지로 \n",
    "for i in range(len(photoAry)):\n",
    "    if photoAry[i]<=midValue:\n",
    "        photoAry[i]=0\n",
    "    else:\n",
    "        photoAry[i]=255\n",
    "\n",
    "pos = 0\n",
    "for i in range(h):\n",
    "    for j in range(w):\n",
    "        r = g = b = photoAry[pos]\n",
    "        pos +=1\n",
    "        photo.put(\"#%02x%02x%02x\" % (r,g,b),(i,j))\n",
    "\n",
    "\n",
    "paper = Label(window, image=photo)\n",
    "paper.pack(expand=1, anchor = CENTER)\n",
    "window.mainloop()"
   ]
  }
 ],
 "metadata": {
  "kernelspec": {
   "display_name": "Python 3",
   "language": "python",
   "name": "python3"
  },
  "language_info": {
   "codemirror_mode": {
    "name": "ipython",
    "version": 3
   },
   "file_extension": ".py",
   "mimetype": "text/x-python",
   "name": "python",
   "nbconvert_exporter": "python",
   "pygments_lexer": "ipython3",
   "version": "3.11.1"
  },
  "orig_nbformat": 4,
  "vscode": {
   "interpreter": {
    "hash": "a3d8f53f1429d27b792a3789224562ddd32c1395c9a9cfbb17b3c19c3b9a493d"
   }
  }
 },
 "nbformat": 4,
 "nbformat_minor": 2
}
