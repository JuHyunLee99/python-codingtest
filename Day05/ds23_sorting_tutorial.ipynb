{
 "cells": [
  {
   "attachments": {},
   "cell_type": "markdown",
   "metadata": {},
   "source": [
    "## 선택정렬\n",
    "### 최소값 위치 확인 함수"
   ]
  },
  {
   "cell_type": "code",
   "execution_count": 20,
   "metadata": {},
   "outputs": [],
   "source": [
    "def findMinIdx(ary):\n",
    "    minIdx = 0    # 배열0부터\n",
    "    for i in range(1, len(ary)):\n",
    "        if (ary[minIdx]) > ary[i]:\n",
    "            minIdx = i\n",
    "\n",
    "    return minIdx"
   ]
  },
  {
   "cell_type": "code",
   "execution_count": 21,
   "metadata": {},
   "outputs": [
    {
     "name": "stdout",
     "output_type": "stream",
     "text": [
      "4\n"
     ]
    }
   ],
   "source": [
    "tests = [55, 88, 33, 77, 10]\n",
    "print(findMinIdx(tests))"
   ]
  },
  {
   "attachments": {},
   "cell_type": "markdown",
   "metadata": {},
   "source": [
    "### 선택정렬 전체"
   ]
  },
  {
   "cell_type": "code",
   "execution_count": 22,
   "metadata": {},
   "outputs": [
    {
     "name": "stdout",
     "output_type": "stream",
     "text": [
      "정렬전 --> [188, 162, 168, 120, 50, 150, 177, 105]\n",
      "정렬후--> [50, 105, 120, 150, 162, 168, 177, 188]\n"
     ]
    }
   ],
   "source": [
    "# 변수선언\n",
    "before = [188, 162,168,120,50,150,177,105]\n",
    "after = []\n",
    "\n",
    "print('정렬전 -->', before)\n",
    "for _ in range(len(before)):\n",
    "    minPos = findMinIdx(before) # 최소값 인덱스 반환\n",
    "    after.append(before[minPos])    # after리스트 최소값 추가\n",
    "    del(before[minPos]) # befor리스트 최소값 삭제\n",
    "print('정렬후-->', after)\n"
   ]
  },
  {
   "attachments": {},
   "cell_type": "markdown",
   "metadata": {},
   "source": [
    "#### 개선된 선택정렬\n",
    "배열을 두개만들 필요X, 값 교환 swap기능 학습"
   ]
  },
  {
   "cell_type": "code",
   "execution_count": 2,
   "metadata": {},
   "outputs": [
    {
     "name": "stdout",
     "output_type": "stream",
     "text": [
      "정렬전 --> [188, 162, 168, 120, 20, 150, 177, 105]\n",
      "정렬후 --> [20, 105, 120, 150, 162, 168, 177, 188]\n"
     ]
    }
   ],
   "source": [
    "def selectionSort(ary):\n",
    "    n = len(ary)\n",
    "    for i in range(0, n-1): # 마지막 인덱스 n\n",
    "        minIdx = i\n",
    "        for k in range(i+1, n): # 마지막 인덱스 n-1\n",
    "            if (ary[minIdx] > ary[k]): \n",
    "                minIdx = k\n",
    "        tmp = ary[i]\n",
    "        ary[i] = ary[minIdx]\n",
    "        ary[minIdx] = tmp\n",
    "\n",
    "    return ary\n",
    "\n",
    "# 변수\n",
    "dataAry = [188, 162, 168, 120, 20,150,177,105]\n",
    "\n",
    "print('정렬전 -->', dataAry)\n",
    "dataAry = selectionSort(dataAry)\n",
    "print('정렬후 -->', dataAry)"
   ]
  },
  {
   "attachments": {},
   "cell_type": "markdown",
   "metadata": {},
   "source": [
    "### 삽입정렬 Insertion Sort\n",
    "\n",
    "#### 자신의 삽입위치를 찾는 함수"
   ]
  },
  {
   "cell_type": "code",
   "execution_count": 24,
   "metadata": {},
   "outputs": [],
   "source": [
    "def findInsertIdx(ary, data):\n",
    "    findIdx = -1\n",
    "    for i in range(0, len(ary)):\n",
    "        if ary[i] > data:\n",
    "            findIdx = i\n",
    "            break\n",
    "    if findIdx == -1:\n",
    "        return len(ary)\n",
    "    else:\n",
    "        return findIdx"
   ]
  },
  {
   "cell_type": "code",
   "execution_count": 25,
   "metadata": {},
   "outputs": [
    {
     "name": "stdout",
     "output_type": "stream",
     "text": [
      "50이 들어갈 위치 0\n",
      "55가 들어갈 위치 1\n"
     ]
    }
   ],
   "source": [
    "testAry = []\n",
    "print('50이 들어갈 위치', findInsertIdx(testAry, 50))\n",
    "testAry = [33, 60, 54, 88]\n",
    "print('55가 들어갈 위치', findInsertIdx(testAry, 55))"
   ]
  },
  {
   "cell_type": "code",
   "execution_count": 26,
   "metadata": {},
   "outputs": [
    {
     "name": "stdout",
     "output_type": "stream",
     "text": [
      "정렬 전 --> [188, 162, 168, 120, 50, 150, 177, 105]\n",
      "정렬 후 --> [50, 105, 120, 150, 162, 168, 177, 188]\n",
      "원본 --> [188, 162, 168, 120, 50, 150, 177, 105]\n"
     ]
    }
   ],
   "source": [
    "before = [188, 162,168,120,50,150,177,105]\n",
    "after = []\n",
    "\n",
    "print('정렬 전 -->', before)\n",
    "for i in range(len(before)):\n",
    "    data = before[i]\n",
    "    idx = findInsertIdx(after, data)\n",
    "    after.insert(idx, data)\n",
    "print('정렬 후 -->', after)\n",
    "print('원본 -->', before)"
   ]
  },
  {
   "attachments": {},
   "cell_type": "markdown",
   "metadata": {},
   "source": [
    "####  개선 후"
   ]
  },
  {
   "cell_type": "code",
   "execution_count": 27,
   "metadata": {},
   "outputs": [
    {
     "name": "stdout",
     "output_type": "stream",
     "text": [
      "정렬 전 --> [50, 105, 120, 188, 150, 162, 168, 177]\n",
      "#사이클--> [50, 105, 120, 188, 150, 162, 168, 177]\n",
      "#사이클--> [50, 105, 120, 188, 150, 162, 168, 177]\n",
      "#사이클--> [50, 105, 120, 188, 150, 162, 168, 177]\n",
      "#사이클--> [50, 105, 120, 188, 150, 162, 168, 177]\n",
      "#사이클--> [50, 105, 120, 150, 188, 162, 168, 177]\n",
      "#사이클--> [50, 105, 120, 150, 162, 188, 168, 177]\n",
      "#사이클--> [50, 105, 120, 150, 162, 168, 188, 177]\n",
      "정렬 후 --> [50, 105, 120, 150, 162, 168, 177, 188]\n"
     ]
    }
   ],
   "source": [
    "def insertionSort(ary):\n",
    "    n = len(ary)\n",
    "    for end in range(1, n): # 앞의 값 하나 빼고 끝까지 반복\n",
    "        print('#사이클-->', ary)\n",
    "        for cur in range(end, 0, -1):   # 반대로 돌면서\n",
    "            if ary[cur-1] > ary[cur]:\n",
    "                ary[cur-1], ary[cur] = ary[cur], ary[cur-1] # 파이썬 sweap!\n",
    "    return ary\n",
    "\n",
    "dataAry = [50,105,120,188,150,162,168,177]\n",
    "\n",
    "print('정렬 전 -->', dataAry)\n",
    "dataAry = insertionSort(dataAry)\n",
    "print('정렬 후 -->', dataAry)"
   ]
  },
  {
   "attachments": {},
   "cell_type": "markdown",
   "metadata": {},
   "source": [
    "### 버블 정렬(Bubble Sort)"
   ]
  },
  {
   "cell_type": "code",
   "execution_count": 28,
   "metadata": {},
   "outputs": [
    {
     "name": "stdout",
     "output_type": "stream",
     "text": [
      "정렬 전 --> [190, 162, 168, 120, 20, 150, 177, 105]\n",
      "#사이클--> [190, 162, 168, 120, 20, 150, 177, 105]\n",
      "#사이클--> [162, 190, 168, 120, 20, 150, 177, 105]\n",
      "#사이클--> [162, 168, 190, 120, 20, 150, 177, 105]\n",
      "#사이클--> [120, 162, 168, 190, 20, 150, 177, 105]\n",
      "#사이클--> [20, 120, 162, 168, 190, 150, 177, 105]\n",
      "#사이클--> [20, 120, 150, 162, 168, 190, 177, 105]\n",
      "#사이클--> [20, 120, 150, 162, 168, 177, 190, 105]\n",
      "정렬 후 --> [20, 105, 120, 150, 162, 168, 177, 190]\n"
     ]
    }
   ],
   "source": [
    "def BubbleSort(ary):\n",
    "    n = len(ary)\n",
    "    for end in range(n-1, 0, -1):   # n-1부터 0까지 역순\n",
    "        for cur in range(0, end):   # 0부터 n-2까지 반복\n",
    "            if ary[cur] > ary[cur+1]:\n",
    "                ary[cur], ary[cur+1] = ary[cur+1], ary[cur]\n",
    "\n",
    "dataAry = [190,162,168,120,20,150,177,105]\n",
    "\n",
    "print('정렬 전 -->', dataAry)\n",
    "dataAry = insertionSort(dataAry)\n",
    "print('정렬 후 -->', dataAry)"
   ]
  },
  {
   "attachments": {},
   "cell_type": "markdown",
   "metadata": {},
   "source": [
    "### 퀵 정렬(quickSort)"
   ]
  },
  {
   "cell_type": "code",
   "execution_count": 2,
   "metadata": {},
   "outputs": [
    {
     "name": "stdout",
     "output_type": "stream",
     "text": [
      "정렬 전 --> [120, 120, 188, 150, 168, 50, 50, 162, 105, 120, 177, 50]\n",
      "정렬 후 --> [50, 50, 50, 105, 120, 120, 120, 150, 162, 168, 177, 188]\n"
     ]
    }
   ],
   "source": [
    "def quickSort(ary):\n",
    "    n = len(ary)\n",
    "    if n <=1:\n",
    "        return ary\n",
    "\n",
    "    pivot = ary[n//2]\n",
    "    leftAry,midAry,rightAry = [],[],[]\n",
    "    for num in ary:\n",
    "        if num < pivot:\n",
    "            leftAry.append(num)\n",
    "        elif num > pivot:\n",
    "            rightAry.append(num)\n",
    "        else:\n",
    "            midAry.append(num)\n",
    "\n",
    "    return quickSort(leftAry) + midAry + quickSort(rightAry)\n",
    "\n",
    "dataAry = [120,120,188,150,168,50,50,162,105,120,177,50]\n",
    "\n",
    "print('정렬 전 -->', dataAry)\n",
    "dataAry = quickSort(dataAry)\n",
    "print('정렬 후 -->', dataAry)\n",
    "    "
   ]
  },
  {
   "attachments": {},
   "cell_type": "markdown",
   "metadata": {},
   "source": [
    "리스트 정렬"
   ]
  },
  {
   "cell_type": "code",
   "execution_count": 12,
   "metadata": {},
   "outputs": [
    {
     "name": "stdout",
     "output_type": "stream",
     "text": [
      "[50, 50, 50, 105, 120, 120, 120, 150, 162, 168, 177, 188]\n",
      "[188, 177, 168, 162, 150, 120, 120, 120, 105, 50, 50, 50]\n"
     ]
    }
   ],
   "source": [
    "dataAry = [120,120,188,150,168,50,50,162,105,120,177,50]\n",
    "dataAry.sort()  # 오름차순 정렬\n",
    "print(dataAry)\n",
    "\n",
    "dataAry.sort(reverse=True)   # 내림차순 정렬\n",
    "print(dataAry)\n",
    "# 기본 정렬 존재"
   ]
  },
  {
   "cell_type": "code",
   "execution_count": 15,
   "metadata": {},
   "outputs": [
    {
     "data": {
      "text/plain": [
       "[50, 50, 50, 105, 120, 120, 120, 150, 162, 168, 177, 188]"
      ]
     },
     "execution_count": 15,
     "metadata": {},
     "output_type": "execute_result"
    }
   ],
   "source": [
    "values = sorted(dataAry, reverse = False)\n",
    "values"
   ]
  }
 ],
 "metadata": {
  "kernelspec": {
   "display_name": "Python 3",
   "language": "python",
   "name": "python3"
  },
  "language_info": {
   "codemirror_mode": {
    "name": "ipython",
    "version": 3
   },
   "file_extension": ".py",
   "mimetype": "text/x-python",
   "name": "python",
   "nbconvert_exporter": "python",
   "pygments_lexer": "ipython3",
   "version": "3.11.1"
  },
  "orig_nbformat": 4,
  "vscode": {
   "interpreter": {
    "hash": "a3d8f53f1429d27b792a3789224562ddd32c1395c9a9cfbb17b3c19c3b9a493d"
   }
  }
 },
 "nbformat": 4,
 "nbformat_minor": 2
}
